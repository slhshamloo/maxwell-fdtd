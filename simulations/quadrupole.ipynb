{
 "cells": [
  {
   "cell_type": "markdown",
   "source": [
    "# Quadrupole"
   ],
   "metadata": {}
  },
  {
   "cell_type": "markdown",
   "source": [
    "## Imports"
   ],
   "metadata": {}
  },
  {
   "cell_type": "code",
   "execution_count": null,
   "source": [
    "import slhfdtd\r\n",
    "from matplotlib import pyplot as plt\r\n",
    "from math import cos, pi"
   ],
   "outputs": [],
   "metadata": {}
  },
  {
   "cell_type": "markdown",
   "source": [
    "## Global Configurations"
   ],
   "metadata": {}
  },
  {
   "cell_type": "code",
   "execution_count": null,
   "source": [
    "plt.rcParams.update({\"text.usetex\" : True})"
   ],
   "outputs": [],
   "metadata": {}
  },
  {
   "cell_type": "markdown",
   "source": [
    "## Point Source"
   ],
   "metadata": {}
  },
  {
   "cell_type": "code",
   "execution_count": null,
   "source": [
    "solver = slhfdtd.Solver((2e-6, 2e-6, 0))\r\n",
    "solver.add_source(slhfdtd.PointSource(\r\n",
    "    (0.8e-6, 0.8e-6, 0), wavelength=1.5e-7, power=1.0, func=cos, phase=pi\r\n",
    "))\r\n",
    "solver.add_source(slhfdtd.PointSource(\r\n",
    "    (0.8e-6, 1.2e-6, 0), wavelength=1.5e-7, power=1.0, func=cos\r\n",
    "))\r\n",
    "solver.add_source(slhfdtd.PointSource(\r\n",
    "    (1.2e-6, 0.8e-6, 0), wavelength=1.5e-7, power=1.0, func=cos\r\n",
    "))\r\n",
    "solver.add_source(slhfdtd.PointSource(\r\n",
    "    (1.2e-6, 1.2e-6, 0), wavelength=1.5e-7, power=1.0, func=cos, phase=pi\r\n",
    "))\r\n",
    "\r\n",
    "solver.add_boundary(slhfdtd.AutoPML())\r\n",
    "solver.run(5e-15)\r\n",
    "\r\n",
    "visualizer = slhfdtd.Visualizer(solver)\r\n",
    "visualizer.set_aspect('equal')\r\n",
    "visualizer.set_interpolation_2d('none')\r\n",
    "visualizer.set_variables(norms='log')\r\n",
    "visualizer.plot2d_magnitude()\r\n",
    "\r\n",
    "# plt.savefig('quadrupole-point.pdf', bbox_inches='tight')"
   ],
   "outputs": [],
   "metadata": {}
  },
  {
   "cell_type": "markdown",
   "source": [
    "## Line Source"
   ],
   "metadata": {}
  },
  {
   "cell_type": "code",
   "execution_count": null,
   "source": [
    "solver = slhfdtd.Solver((2e-6, 2e-6, 0))\r\n",
    "solver.add_source(slhfdtd.LineSource((0.8e-6, 0.8e-6, 0), (0.8e-6, 1.2e-6, 0),\r\n",
    "    wavelength=1.5e-7, power=1.0, func=cos, phase=pi\r\n",
    "))\r\n",
    "solver.add_source(slhfdtd.LineSource((1.2e-6, 0.8e-6, 0), (1.2e-6, 1.2e-6, 0),\r\n",
    "    wavelength=1.5e-7, power=1.0, func=cos, phase=pi\r\n",
    "))\r\n",
    "solver.add_source(slhfdtd.LineSource((0.8e-6, 0.8e-6, 0), (1.2e-6, 0.8e-6, 0),\r\n",
    "    wavelength=1.5e-7, power=1.0, func=cos\r\n",
    "))\r\n",
    "solver.add_source(slhfdtd.LineSource((0.8e-6, 1.2e-6, 0), (1.2e-6, 1.2e-6, 0),\r\n",
    "    wavelength=1.5e-7, power=1.0, func=cos\r\n",
    "))\r\n",
    "\r\n",
    "solver.add_boundary(slhfdtd.AutoPML())\r\n",
    "solver.run(5e-15)\r\n",
    "\r\n",
    "visualizer = slhfdtd.Visualizer(solver)\r\n",
    "visualizer.set_aspect('equal')\r\n",
    "visualizer.set_interpolation_2d('none')\r\n",
    "visualizer.set_variables(norms='log')\r\n",
    "visualizer.plot2d_magnitude()\r\n",
    "\r\n",
    "# plt.savefig('quadrupole-line.pdf', bbox_inches='tight')"
   ],
   "outputs": [],
   "metadata": {}
  }
 ],
 "metadata": {
  "orig_nbformat": 4,
  "language_info": {
   "name": "python",
   "version": "3.9.6",
   "mimetype": "text/x-python",
   "codemirror_mode": {
    "name": "ipython",
    "version": 3
   },
   "pygments_lexer": "ipython3",
   "nbconvert_exporter": "python",
   "file_extension": ".py"
  },
  "kernelspec": {
   "name": "python3",
   "display_name": "Python 3.9.6 64-bit"
  },
  "interpreter": {
   "hash": "91b4319d0df388d959d85b4da721822ccaaf7f695d5cf8a0a3cefd0beaeac272"
  }
 },
 "nbformat": 4,
 "nbformat_minor": 2
}