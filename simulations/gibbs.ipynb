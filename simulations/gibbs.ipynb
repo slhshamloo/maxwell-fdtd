{
 "cells": [
  {
   "cell_type": "markdown",
   "source": [
    "# Gibbs Phenomenon"
   ],
   "metadata": {}
  },
  {
   "cell_type": "markdown",
   "source": [
    "## Imports"
   ],
   "metadata": {}
  },
  {
   "cell_type": "code",
   "execution_count": 1,
   "source": [
    "import slhfdtd\r\n",
    "from matplotlib import pyplot as plt"
   ],
   "outputs": [],
   "metadata": {}
  },
  {
   "cell_type": "markdown",
   "source": [
    "## Global Configurations"
   ],
   "metadata": {}
  },
  {
   "cell_type": "code",
   "execution_count": 2,
   "source": [
    "plt.rcParams.update({\"text.usetex\" : True})"
   ],
   "outputs": [],
   "metadata": {}
  },
  {
   "cell_type": "markdown",
   "source": [
    "## Square Wave Simulation"
   ],
   "metadata": {}
  },
  {
   "cell_type": "markdown",
   "source": [
    "### Cell Size = 10 nanometer"
   ],
   "metadata": {}
  },
  {
   "cell_type": "code",
   "execution_count": 3,
   "source": [
    "solver = slhfdtd.Solver((2e-6, 0, 0))\r\n",
    "solver.add_source(slhfdtd.PointSource(\r\n",
    "    (0, 0, 0), wavelength=700e-9, func=slhfdtd.square_wave, additive=False\r\n",
    "))\r\n",
    "solver.run(6e-15)\r\n",
    "\r\n",
    "fig, axs = plt.subplots(2, sharex=True)\r\n",
    "visualizer = slhfdtd.Visualizer(solver)\r\n",
    "visualizer.plot1d_field(axs[0], 'E')\r\n",
    "visualizer.plot1d_field(axs[1], 'H', axis_field=1)\r\n",
    "\r\n",
    "plt.savefig('gibbs_large.pdf', bbox_inches='tight')"
   ],
   "outputs": [],
   "metadata": {}
  },
  {
   "cell_type": "markdown",
   "source": [
    "### Cell Size = 1 nanometer"
   ],
   "metadata": {}
  },
  {
   "cell_type": "code",
   "execution_count": null,
   "source": [
    "solver = slhfdtd.Solver((2e-6, 0, 0), grid_dist=1e-9)\r\n",
    "solver.add_source(slhfdtd.PointSource(\r\n",
    "    (0, 0, 0), wavelength=700e-9, func=slhfdtd.square_wave, additive=False\r\n",
    "))\r\n",
    "solver.run(6.5e-15)\r\n",
    "\r\n",
    "fig, axs = plt.subplots(2, sharex=True)\r\n",
    "visualizer = slhfdtd.Visualizer(solver)\r\n",
    "visualizer.plot1d_field(axs[0], 'E')\r\n",
    "visualizer.plot1d_field(axs[1], 'H', axis_field=1)\r\n",
    "\r\n",
    "plt.savefig('gibbs_medium.pdf', bbox_inches='tight')"
   ],
   "outputs": [],
   "metadata": {}
  },
  {
   "cell_type": "markdown",
   "source": [
    "### Cell Size = 0.1 nanometer"
   ],
   "metadata": {}
  },
  {
   "cell_type": "code",
   "execution_count": null,
   "source": [
    "solver = slhfdtd.Solver((2e-6, 0, 0), grid_dist=1e-10)\r\n",
    "solver.add_source(slhfdtd.PointSource(\r\n",
    "    (0, 0, 0), wavelength=700e-9, func=slhfdtd.square_wave, additive=False\r\n",
    "))\r\n",
    "solver.run(6.5e-15)\r\n",
    "\r\n",
    "fig, axs = plt.subplots(2, sharex=True)\r\n",
    "visualizer = slhfdtd.Visualizer(solver)\r\n",
    "visualizer.plot1d_field(axs[0], 'E')\r\n",
    "visualizer.plot1d_field(axs[1], 'H', axis_field=1)\r\n",
    "\r\n",
    "plt.savefig('gibbs_small.pdf', bbox_inches='tight')"
   ],
   "outputs": [],
   "metadata": {}
  }
 ],
 "metadata": {
  "orig_nbformat": 4,
  "language_info": {
   "name": "python",
   "version": "3.9.6",
   "mimetype": "text/x-python",
   "codemirror_mode": {
    "name": "ipython",
    "version": 3
   },
   "pygments_lexer": "ipython3",
   "nbconvert_exporter": "python",
   "file_extension": ".py"
  },
  "kernelspec": {
   "name": "python3",
   "display_name": "Python 3.9.6 64-bit"
  },
  "interpreter": {
   "hash": "91b4319d0df388d959d85b4da721822ccaaf7f695d5cf8a0a3cefd0beaeac272"
  }
 },
 "nbformat": 4,
 "nbformat_minor": 2
}