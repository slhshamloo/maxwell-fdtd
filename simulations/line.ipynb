{
 "cells": [
  {
   "cell_type": "markdown",
   "source": [
    "# Line Sources"
   ],
   "metadata": {}
  },
  {
   "cell_type": "markdown",
   "source": [
    "## Imports"
   ],
   "metadata": {}
  },
  {
   "cell_type": "code",
   "execution_count": null,
   "source": [
    "import slhfdtd\r\n",
    "from matplotlib import pyplot as plt"
   ],
   "outputs": [],
   "metadata": {}
  },
  {
   "cell_type": "markdown",
   "source": [
    "## Global Configurations"
   ],
   "metadata": {}
  },
  {
   "cell_type": "code",
   "execution_count": null,
   "source": [
    "plt.rcParams.update({\"text.usetex\" : True})"
   ],
   "outputs": [],
   "metadata": {}
  },
  {
   "cell_type": "markdown",
   "source": [
    "## Current in Z-Direction"
   ],
   "metadata": {}
  },
  {
   "cell_type": "code",
   "execution_count": null,
   "source": [
    "solver = slhfdtd.Solver((2e-6, 2e-6, 0))\r\n",
    "solver.add_source(slhfdtd.LineSource(\r\n",
    "    (1e-6, 0.75e-6, 0), (1e-6, 1.25e-6, 0)\r\n",
    "))\r\n",
    "solver.add_boundary(slhfdtd.AutoPML())\r\n",
    "solver.run(5e-15)\r\n",
    "\r\n",
    "visualizer = slhfdtd.Visualizer(solver)\r\n",
    "visualizer.set_aspect('equal')\r\n",
    "visualizer.set_interpolation_2d('none')\r\n",
    "visualizer.plot2d_magnitude()\r\n",
    "\r\n",
    "# plt.savefig('wire-abs.pdf', bbox_inches='tight')\r\n",
    "\r\n",
    "visualizer.set_figsize((7.2, 5.4))\r\n",
    "visualizer.plot2d()\r\n",
    "\r\n",
    "# plt.savefig('wire-z.pdf', bbox_inches='tight')"
   ],
   "outputs": [],
   "metadata": {}
  },
  {
   "cell_type": "markdown",
   "source": [
    "## Current in Y-Direction"
   ],
   "metadata": {}
  },
  {
   "cell_type": "code",
   "execution_count": null,
   "source": [
    "solver = slhfdtd.Solver((2e-6, 2e-6, 0))\r\n",
    "solver.add_source(slhfdtd.LineSource(\r\n",
    "    (1e-6, 0.75e-6, 0), (1e-6, 1.25e-6, 0), direction=1\r\n",
    "))\r\n",
    "solver.add_boundary(slhfdtd.AutoPML())\r\n",
    "solver.run(5e-15)\r\n",
    "\r\n",
    "visualizer = slhfdtd.Visualizer(solver)\r\n",
    "visualizer.set_aspect('equal')\r\n",
    "visualizer.set_figsize((7.2, 5.4))\r\n",
    "visualizer.set_interpolation_2d('none')\r\n",
    "visualizer.plot2d()\r\n",
    "\r\n",
    "# plt.savefig('wire-y.pdf', bbox_inches='tight')"
   ],
   "outputs": [],
   "metadata": {}
  },
  {
   "cell_type": "markdown",
   "source": [
    "## Charge"
   ],
   "metadata": {}
  },
  {
   "cell_type": "code",
   "execution_count": null,
   "source": [
    "solver = slhfdtd.Solver((2e-6, 2e-6, 0))\r\n",
    "solver.add_source(slhfdtd.LineSource(\r\n",
    "    (1e-6, 0.75e-6, 0), (1e-6, 1.25e-6, 0), direction=None\r\n",
    "))\r\n",
    "solver.add_boundary(slhfdtd.AutoPML())\r\n",
    "solver.run(5e-15)\r\n",
    "\r\n",
    "visualizer = slhfdtd.Visualizer(solver)\r\n",
    "visualizer.set_aspect('equal')\r\n",
    "visualizer.set_interpolation_2d('none')\r\n",
    "visualizer.set_variables(norms='log')\r\n",
    "visualizer.plot2d_magnitude()\r\n",
    "\r\n",
    "# plt.savefig('line.pdf', bbox_inches='tight')"
   ],
   "outputs": [],
   "metadata": {}
  }
 ],
 "metadata": {
  "orig_nbformat": 4,
  "language_info": {
   "name": "python",
   "version": "3.9.6",
   "mimetype": "text/x-python",
   "codemirror_mode": {
    "name": "ipython",
    "version": 3
   },
   "pygments_lexer": "ipython3",
   "nbconvert_exporter": "python",
   "file_extension": ".py"
  },
  "kernelspec": {
   "name": "python3",
   "display_name": "Python 3.9.6 64-bit"
  },
  "interpreter": {
   "hash": "91b4319d0df388d959d85b4da721822ccaaf7f695d5cf8a0a3cefd0beaeac272"
  }
 },
 "nbformat": 4,
 "nbformat_minor": 2
}