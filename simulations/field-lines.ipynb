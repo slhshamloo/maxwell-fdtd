{
 "cells": [
  {
   "cell_type": "markdown",
   "source": [
    "# Field Lines"
   ],
   "metadata": {}
  },
  {
   "cell_type": "markdown",
   "source": [
    "## Imports"
   ],
   "metadata": {}
  },
  {
   "cell_type": "code",
   "execution_count": 1,
   "source": [
    "import slhfdtd\r\n",
    "from matplotlib import pyplot as plt\r\n",
    "from math import cos, pi"
   ],
   "outputs": [],
   "metadata": {}
  },
  {
   "cell_type": "markdown",
   "source": [
    "## Global Configurations"
   ],
   "metadata": {}
  },
  {
   "cell_type": "code",
   "execution_count": 2,
   "source": [
    "plt.rcParams.update({\"text.usetex\" : True})"
   ],
   "outputs": [],
   "metadata": {}
  },
  {
   "cell_type": "markdown",
   "source": [
    "## Simulation (Dipole)"
   ],
   "metadata": {}
  },
  {
   "cell_type": "code",
   "execution_count": 3,
   "source": [
    "solver = slhfdtd.Solver((2e-6, 2e-6, 0))\r\n",
    "solver.add_source(slhfdtd.PointSource(\r\n",
    "    (1e-6, 0.7e-6, 0), wavelength=2e-7, power=1.0, func=cos, phase=pi,\r\n",
    "    direction=None\r\n",
    "))\r\n",
    "solver.add_source(slhfdtd.PointSource(\r\n",
    "    (1e-6, 1.3e-6, 0), wavelength=2e-7, power=1.0, func=cos,\r\n",
    "    direction=None\r\n",
    "))\r\n",
    "solver.add_boundary(slhfdtd.AutoPML())\r\n",
    "solver.run(5e-15)\r\n",
    "\r\n",
    "visualizer = slhfdtd.Visualizer(solver)\r\n",
    "visualizer.set_aspect('equal')\r\n",
    "visualizer.set_interpolation_2d('none')\r\n",
    "visualizer.set_variables(norms='log')\r\n",
    "\r\n",
    "visualizer.plot2d_vector(resolution=20)\r\n",
    "# plt.savefig('quiver-comb.pdf', bbox_inches='tight')\r\n",
    "\r\n",
    "visualizer.plot2d_vector(quiver=False, stream=True)\r\n",
    "# plt.savefig('stream-comb.pdf', bbox_inches='tight')\r\n",
    "\r\n",
    "visualizer.plot2d_vector(combine=False)\r\n",
    "# plt.savefig('quiver.pdf', bbox_inches='tight')\r\n",
    "\r\n",
    "visualizer.plot2d_vector(combine=False, quiver=False, stream=True)\r\n",
    "# plt.savefig('stream.pdf', bbox_inches='tight')\r\n",
    "\r\n",
    "fig, ax = plt.subplots()\r\n",
    "visualizer.plot2d_poynting_on_energy(ax)\r\n",
    "# plt.savefig('flow.pdf', bbox_inches='tight')"
   ],
   "outputs": [
    {
     "output_type": "stream",
     "name": "stderr",
     "text": [
      "C:\\Users\\Windows10\\AppData\\Local\\Programs\\Python\\Python39\\lib\\site-packages\\slhfdtd-0.0.0-py3.9.egg\\slhfdtd\\visualization.py:481: FutureWarning: Using a non-tuple sequence for multidimensional indexing is deprecated; use `arr[tuple(seq)]` instead of `arr[seq]`. In the future this will be interpreted as an array index, `arr[np.array(seq)]`, which will result either in an error or a different result.\n"
     ]
    }
   ],
   "metadata": {}
  }
 ],
 "metadata": {
  "orig_nbformat": 4,
  "language_info": {
   "name": "python",
   "version": "3.9.6",
   "mimetype": "text/x-python",
   "codemirror_mode": {
    "name": "ipython",
    "version": 3
   },
   "pygments_lexer": "ipython3",
   "nbconvert_exporter": "python",
   "file_extension": ".py"
  },
  "kernelspec": {
   "name": "python3",
   "display_name": "Python 3.9.6 64-bit"
  },
  "interpreter": {
   "hash": "91b4319d0df388d959d85b4da721822ccaaf7f695d5cf8a0a3cefd0beaeac272"
  }
 },
 "nbformat": 4,
 "nbformat_minor": 2
}